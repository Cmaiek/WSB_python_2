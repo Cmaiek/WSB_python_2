{
 "metadata": {
  "language_info": {
   "codemirror_mode": {
    "name": "ipython",
    "version": 3
   },
   "file_extension": ".py",
   "mimetype": "text/x-python",
   "name": "python",
   "nbconvert_exporter": "python",
   "pygments_lexer": "ipython3",
   "version": "3.8.5-final"
  },
  "orig_nbformat": 2,
  "kernelspec": {
   "name": "python38564bitc96c6527f0124b3faabaf556f7f5c0d0",
   "display_name": "Python 3.8.5 64-bit",
   "language": "python"
  }
 },
 "nbformat": 4,
 "nbformat_minor": 2,
 "cells": [
  {
   "source": [
    "# Python Podstawy 2\n",
    "#### Klasy, TDD i Bahave\n"
   ],
   "cell_type": "markdown",
   "metadata": {}
  },
  {
   "source": [
    "## Zadanie 1"
   ],
   "cell_type": "markdown",
   "metadata": {}
  },
  {
   "cell_type": "code",
   "execution_count": 188,
   "metadata": {},
   "outputs": [],
   "source": [
    "class PozycjaKoszyka:\n",
    "    def __init__(self, name, cena, ile):\n",
    "        self.name = name\n",
    "        self.cena_sztuki = cena\n",
    "        self.ile = ile\n",
    "    def subtotal(self):\n",
    "        return self.cena_sztuki * self.ile"
   ]
  },
  {
   "cell_type": "code",
   "execution_count": 189,
   "metadata": {},
   "outputs": [
    {
     "output_type": "stream",
     "name": "stdout",
     "text": [
      "[<__main__.PozycjaKoszyka object at 0x7f9e277b0af0>, <__main__.PozycjaKoszyka object at 0x7f9e277b0d60>, <__main__.PozycjaKoszyka object at 0x7f9e277b0340>]\n"
     ]
    }
   ],
   "source": [
    "poz1 = PozycjaKoszyka('mleko',10,12)\n",
    "poz2 = PozycjaKoszyka('płatki',5,20)\n",
    "poz3 = PozycjaKoszyka('papier toaletowy',2,100)\n",
    "koszyk = [poz1, poz2, poz3]\n",
    "print(koszyk)"
   ]
  },
  {
   "cell_type": "code",
   "execution_count": 190,
   "metadata": {},
   "outputs": [],
   "source": [
    "class Basket:\n",
    "    def __init__(self, items):\n",
    "        self.items=items\n",
    "    def total(self):\n",
    "        total = []\n",
    "        for item in self.items:\n",
    "            total.append(item.subtotal())\n",
    "        return sum(total)"
   ]
  },
  {
   "cell_type": "code",
   "execution_count": 191,
   "metadata": {},
   "outputs": [
    {
     "output_type": "execute_result",
     "data": {
      "text/plain": [
       "420"
      ]
     },
     "metadata": {},
     "execution_count": 191
    }
   ],
   "source": [
    "kosz1 = Basket(koszyk)\n",
    "kosz1.total()"
   ]
  },
  {
   "source": [
    "## Zadanie 2\n",
    "### Funkcja samochodowa"
   ],
   "cell_type": "markdown",
   "metadata": {}
  },
  {
   "cell_type": "code",
   "execution_count": 192,
   "metadata": {},
   "outputs": [],
   "source": [
    "class Samochod:\n",
    "    def __init__(self, make, displacement, consumption_per_100):\n",
    "        self.make = make\n",
    "        self.displacement = displacement\n",
    "        self.consumption_per_100 = consumption_per_100\n",
    "    def spalanie_dla(self, distance):\n",
    "        consumption = (distance/100)*self.consumption_per_100\n",
    "        return round(consumption, 2)"
   ]
  },
  {
   "cell_type": "code",
   "execution_count": 193,
   "metadata": {},
   "outputs": [
    {
     "output_type": "stream",
     "name": "stdout",
     "text": [
      "17.22\n21.59\n"
     ]
    }
   ],
   "source": [
    "octavia = Samochod('Skoda',1500, 6.7)\n",
    "print(octavia.spalanie_dla(257))\n",
    "kodiaq = Samochod('Skoda',2000, 8.4)\n",
    "print(kodiaq.spalanie_dla(257))"
   ]
  },
  {
   "cell_type": "code",
   "execution_count": 194,
   "metadata": {},
   "outputs": [
    {
     "output_type": "stream",
     "name": "stdout",
     "text": [
      "Skoda 1500\nSkoda 2000\n"
     ]
    }
   ],
   "source": [
    "flota = [octavia, kodiaq]\n",
    "for car in flota:\n",
    "    print(car.make, car.displacement)"
   ]
  },
  {
   "source": [
    "### Funkcja prywatna"
   ],
   "cell_type": "markdown",
   "metadata": {}
  },
  {
   "cell_type": "code",
   "execution_count": 195,
   "metadata": {},
   "outputs": [],
   "source": [
    "class Motor:\n",
    "    def uruchom(self):\n",
    "        print(\"wrrrr!\")\n",
    "\n",
    "class Auticko:\n",
    "    def __init__(self, silnik):\n",
    "        self._silnik = silnik\n",
    "    def odpal(self):\n",
    "        self._silnik.uruchom()"
   ]
  },
  {
   "cell_type": "code",
   "execution_count": 196,
   "metadata": {},
   "outputs": [
    {
     "output_type": "stream",
     "name": "stdout",
     "text": [
      "wrrrr!\nwrrrr!\n"
     ]
    }
   ],
   "source": [
    "tsi = Motor()\n",
    "tsi.uruchom()\n",
    "fabia = Auticko(tsi)\n",
    "fabia.odpal()"
   ]
  },
  {
   "source": [
    "## Zadanie 3\n",
    "#### Buduję klasę \"Przerwa\" z funkcją określającą jej minimalną rekomendowaną długość i czas wznowienia zajęć."
   ],
   "cell_type": "markdown",
   "metadata": {}
  },
  {
   "cell_type": "code",
   "execution_count": 197,
   "metadata": {},
   "outputs": [],
   "source": [
    "from datetime import datetime, timedelta"
   ]
  },
  {
   "cell_type": "code",
   "execution_count": 198,
   "metadata": {},
   "outputs": [],
   "source": [
    "class Przerwa:\n",
    "    def __init__(self, kawa, obiad, siku):\n",
    "        self.kawa = bool(kawa)\n",
    "        self.obiad = bool(obiad)\n",
    "        self.siku = bool(siku)\n",
    "    \n",
    "    def recommended_duration(self):\n",
    "        recommended_duration = 0\n",
    "        if self.kawa:\n",
    "            recommended_duration += 10\n",
    "        if self.obiad:\n",
    "            recommended_duration += 20\n",
    "        if self.siku:\n",
    "            recommended_duration += 3\n",
    "        print(\"Przerwa powinna wynieść {0} minut.\".format(recommended_duration))  \n",
    "        return recommended_duration\n",
    "        \n",
    "    \n",
    "    def recommended_resume(self):\n",
    "        now = datetime.now()\n",
    "        resume_t = now + timedelta(minutes = self.recommended_duration())\n",
    "        resume_t = resume_t.strftime(\"%H:%M:%S\")\n",
    "        print(\"Rekomendowany czas wznowienia zajęć to \" + resume_t)\n",
    "    "
   ]
  },
  {
   "cell_type": "code",
   "execution_count": 199,
   "metadata": {},
   "outputs": [
    {
     "output_type": "stream",
     "name": "stdout",
     "text": [
      "Przerwa powinna wynieść 13 minut.\nRekomendowany czas wznowienia zajęć to 12:59:27\n"
     ]
    }
   ],
   "source": [
    "przerwa3 = Przerwa(True,False,True)\n",
    "przerwa3.recommended_resume()"
   ]
  },
  {
   "source": [
    "## 5. Klasy zaawansowane\n",
    "#### Generatory"
   ],
   "cell_type": "markdown",
   "metadata": {}
  },
  {
   "cell_type": "code",
   "execution_count": 200,
   "metadata": {},
   "outputs": [
    {
     "output_type": "stream",
     "name": "stdout",
     "text": [
      "Skoda 1500 6.7 17.22\nSkoda 2000 8.1 20.82\n"
     ]
    }
   ],
   "source": [
    "flota = [[\"Skoda\", 1500, 6.7], [\"Skoda\", 2000, 8.1]]\n",
    "\n",
    "def gen():\n",
    "    for f in flota:\n",
    "        yield Samochod(f[0], f[1], f[2])\n",
    "\n",
    "\n",
    "for s in gen():\n",
    "    print(s.make, s.displacement, s.consumption_per_100, s.spalanie_dla(257))\n"
   ]
  },
  {
   "source": [
    "#### Dziedziczenie"
   ],
   "cell_type": "markdown",
   "metadata": {}
  },
  {
   "cell_type": "code",
   "execution_count": 201,
   "metadata": {},
   "outputs": [
    {
     "output_type": "stream",
     "name": "stdout",
     "text": [
      "Ford 2000 9.8 23\n25.19\n"
     ]
    }
   ],
   "source": [
    "class AutoFlotowe(Samochod):\n",
    "    def __init__(self, make, displacement, consumption_per_100, vat_rate):\n",
    "        super().__init__(make, displacement, consumption_per_100)\n",
    "        self.vat_rate = vat_rate\n",
    "    \n",
    "\n",
    "sluzbowka = AutoFlotowe(\"Ford\", 2000, 9.8, 23)\n",
    "\n",
    "print(sluzbowka.make, sluzbowka.displacement, sluzbowka.consumption_per_100, sluzbowka.vat_rate)\n",
    "print(sluzbowka.spalanie_dla(257))"
   ]
  }
 ]
}